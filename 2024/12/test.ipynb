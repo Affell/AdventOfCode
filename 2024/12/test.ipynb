{
 "cells": [
  {
   "cell_type": "code",
   "execution_count": 210,
   "metadata": {},
   "outputs": [],
   "source": [
    "with open('input.txt') as f:\n",
    "    data = f.read().splitlines()"
   ]
  },
  {
   "cell_type": "code",
   "execution_count": 211,
   "metadata": {},
   "outputs": [],
   "source": [
    "tab = []\n",
    "for line in data:\n",
    "    tab.append(list(line))"
   ]
  },
  {
   "cell_type": "code",
   "execution_count": 212,
   "metadata": {},
   "outputs": [],
   "source": [
    "def bfs(x, y, target, elements, visited):\n",
    "    if (x, y) in visited:\n",
    "        return False\n",
    "    visited.append((x, y))\n",
    "    if x < 0 or x >= len(tab) or y < 0 or y >= len(tab[0]) or tab[x][y] != target:\n",
    "        return False\n",
    "    elements.append((x, y))\n",
    "    bfs(x-1, y, target, elements, visited)\n",
    "    bfs(x+1, y, target, elements, visited)\n",
    "    bfs(x, y-1, target, elements, visited)\n",
    "    bfs(x, y+1, target, elements, visited)"
   ]
  },
  {
   "cell_type": "code",
   "execution_count": 213,
   "metadata": {},
   "outputs": [],
   "source": [
    "# groups = []\n",
    "# edges = []\n",
    "# visited = []\n",
    "# for i in range(len(tab)):\n",
    "#     for j in range(len(tab[0])):\n",
    "#         if (i, j) not in visited:\n",
    "#             elements = []\n",
    "#             bfs(i, j, tab[i][j], elements, [])\n",
    "#             edge = []\n",
    "#             for element in elements:\n",
    "#                 if element[0] == 0 or (element[0]-1, element[1]) not in elements:\n",
    "#                     edge.append(element)\n",
    "#                 if element[0] == len(tab)-1 or (element[0]+1, element[1]) not in elements:\n",
    "#                     edge.append(element)\n",
    "#                 if element[1] == 0 or (element[0], element[1]-1) not in elements:\n",
    "#                     edge.append(element)\n",
    "#                 if element[1] == len(tab[0])-1 or (element[0], element[1]+1) not in elements:\n",
    "#                     edge.append(element)\n",
    "#             groups.append(elements)\n",
    "#             edges.append(edge)\n",
    "#             visited.extend(elements)"
   ]
  },
  {
   "cell_type": "code",
   "execution_count": 214,
   "metadata": {},
   "outputs": [],
   "source": [
    "# price = 0\n",
    "# for i in range(len(edges)):\n",
    "#     price += len(edges[i]) * len(groups[i])\n",
    "# print(price)"
   ]
  },
  {
   "cell_type": "code",
   "execution_count": 215,
   "metadata": {},
   "outputs": [],
   "source": [
    "def turn_anticlockwise(dir):\n",
    "    match dir:\n",
    "        case (0, 1):\n",
    "            return (-1, 0)\n",
    "        case (0, -1):\n",
    "            return (1, 0)\n",
    "        case (1, 0):\n",
    "            return (0, 1)\n",
    "        case (-1, 0):\n",
    "            return (0, -1)\n",
    "\n",
    "def turn_clockwise(dir):\n",
    "    match dir:\n",
    "        case (0, 1):\n",
    "            return (1, 0)\n",
    "        case (0, -1):\n",
    "            return (-1, 0)\n",
    "        case (1, 0):\n",
    "            return (0, -1)\n",
    "        case (-1, 0):\n",
    "            return (0, 1)"
   ]
  },
  {
   "cell_type": "code",
   "execution_count": 216,
   "metadata": {},
   "outputs": [],
   "source": [
    "groups = []\n",
    "sides = []\n",
    "visited = []\n",
    "for i in range(len(tab)):\n",
    "    for j in range(len(tab[0])):\n",
    "        if (i, j) not in visited:\n",
    "            elements = []\n",
    "            bfs(i, j, tab[i][j], elements, [])\n",
    "            elements = sorted(elements)\n",
    "            start = (elements[0][0] - 1, elements[0][1])\n",
    "            def next_point(p, move, touch, starting=False):\n",
    "                if not starting and p == start:\n",
    "                    return 0\n",
    "                if (p[0]+move[0], p[1]+move[1]) in elements:\n",
    "                    return 1 + next_point(p, turn_anticlockwise(move), turn_anticlockwise(touch))\n",
    "                else:\n",
    "                    new_pos = (p[0]+move[0], p[1]+move[1])\n",
    "                    touching = (new_pos[0]+touch[0], new_pos[1]+touch[1])\n",
    "                    if touching in elements:\n",
    "                        return next_point(new_pos, move, touch)\n",
    "                    else:\n",
    "                        new_move = turn_clockwise(move)\n",
    "                        return 1 + next_point((new_pos[0]+new_move[0],new_pos[1]+new_move[1]), new_move, turn_clockwise(touch))\n",
    "                \n",
    "            nb_sides = next_point(start, (0, 1), (1, 0), True)   \n",
    "            groups.append(elements)\n",
    "            sides.append(nb_sides)\n",
    "            visited.extend(elements)"
   ]
  },
  {
   "cell_type": "code",
   "execution_count": 217,
   "metadata": {},
   "outputs": [
    {
     "name": "stdout",
     "output_type": "stream",
     "text": [
      "Found 38 sides in container None start (6, 27)\n",
      "Found 4 sides in container None start (14, 9)\n",
      "Found 0 sides in container None start (13, 36)\n",
      "Found 0 sides in container None start (16, 34)\n",
      "Found 80 sides in container None start (19, 32)\n",
      "Found 0 sides in container None start (22, 36)\n",
      "Found 0 sides in container None start (23, 29)\n",
      "Found 0 sides in container None start (12, 119)\n",
      "Found 2 sides in container None start (28, 123)\n",
      "Found 1 sides in container None start (14, 100)\n",
      "Found 0 sides in container None start (15, 101)\n",
      "Found 42 sides in container None start (30, 17)\n",
      "Found 0 sides in container None start (20, 135)\n",
      "Found 4 sides in container None start (24, 128)\n",
      "Found 1 sides in container None start (43, 129)\n",
      "Found 0 sides in container None start (42, 20)\n",
      "Found 0 sides in container None start (54, 60)\n",
      "Found 1 sides in container None start (51, 19)\n",
      "Found 0 sides in container None start (54, 17)\n",
      "Found 0 sides in container None start (53, 8)\n",
      "Found 0 sides in container None start (57, 9)\n",
      "Found 0 sides in container None start (55, 137)\n",
      "Found 4 sides in container None start (59, 138)\n",
      "Found 11 sides in container None start (70, 106)\n",
      "Found 38 sides in container None start (72, 74)\n",
      "Found 1 sides in container None start (70, 133)\n",
      "Found 40 sides in container None start (69, 135)\n",
      "Found 30 sides in container None start (71, 1)\n",
      "Found 0 sides in container None start (70, 33)\n",
      "Found 0 sides in container None start (73, 42)\n",
      "Found 0 sides in container None start (71, 8)\n",
      "Found 46 sides in container None start (84, 25)\n",
      "Found 1 sides in container None start (80, 131)\n",
      "Found 42 sides in container None start (86, 125)\n",
      "Found 0 sides in container None start (91, 125)\n",
      "Found 0 sides in container None start (92, 131)\n",
      "Found 0 sides in container None start (80, 100)\n",
      "Found 0 sides in container None start (86, 131)\n",
      "Found 1 sides in container None start (92, 124)\n",
      "Found 62 sides in container None start (96, 120)\n",
      "Found 0 sides in container None start (96, 121)\n",
      "Found 0 sides in container None start (98, 117)\n",
      "Found 0 sides in container None start (109, 129)\n",
      "Found 0 sides in container None start (110, 119)\n",
      "Found 0 sides in container None start (112, 120)\n",
      "Found 8 sides in container None start (88, 80)\n",
      "Found 1 sides in container None start (99, 45)\n",
      "Found 38 sides in container None start (104, 24)\n",
      "Found 0 sides in container None start (113, 92)\n",
      "Found 0 sides in container None start (117, 92)\n",
      "Found 0 sides in container None start (119, 92)\n",
      "Found 0 sides in container None start (114, 112)\n",
      "Found 0 sides in container None start (118, 60)\n",
      "Found 32 sides in container None start (122, 61)\n",
      "Found 44 sides in container None start (133, 10)\n",
      "Found 0 sides in container None start (136, 12)\n",
      "Found 0 sides in container None start (127, 7)\n",
      "Found 0 sides in container None start (131, 7)\n",
      "Found 1 sides in container None start (128, 85)\n",
      "Found 1 sides in container None start (133, 86)\n",
      "Found 0 sides in container None start (136, 87)\n",
      "Found 26 sides in container None start (132, 96)\n",
      "Found 0 sides in container None start (134, 54)\n"
     ]
    }
   ],
   "source": [
    "contained = {e: [] for e in range(len(groups))}\n",
    "for i, group in enumerate(groups):\n",
    "    container = None\n",
    "    for j, other_group in enumerate(groups):\n",
    "        if i != j and group[0][0] > other_group[0][0] and group[0][1] > other_group[0][1] and group[-1][0] < other_group[-1][0] and group[-1][1] < other_group[-1][1] and \\\n",
    "        (container is None or (groups[container][0][0] < other_group[0][0] and groups[container][0][1] < other_group[0][1] and groups[container][-1][0] > other_group[-1][0] and groups[container][-1][1] > other_group[-1][1])):\n",
    "            container = j\n",
    "\n",
    "    if container is not None:\n",
    "        contained[container].append(i)\n",
    "\n",
    "for i, subs in contained.items():\n",
    "    visited = []\n",
    "    temp = []\n",
    "    def next_point(p, move, touch, starting=False):\n",
    "        if p not in groups[i]:\n",
    "            return 0\n",
    "        if (p, touch) in visited:\n",
    "            return 0\n",
    "        temp.append((p, touch))\n",
    "        if not starting and p == start:\n",
    "            return 0\n",
    "        if (p[0]+move[0], p[1]+move[1]) not in groups[i]:\n",
    "            return 1 + next_point(p, turn_anticlockwise(move), turn_anticlockwise(touch))\n",
    "        else:\n",
    "            new_pos = (p[0]+move[0], p[1]+move[1])\n",
    "            touching = (new_pos[0]+touch[0], new_pos[1]+touch[1])\n",
    "            if touching not in groups[i]:\n",
    "                return next_point(new_pos, move, touch)\n",
    "            else:\n",
    "                new_move = turn_clockwise(move)\n",
    "                return 1 + next_point((new_pos[0]+new_move[0],new_pos[1]+new_move[1]), new_move, turn_clockwise(touch))\n",
    "    for s in subs:\n",
    "        start = (groups[s][0][0] - 1, groups[s][0][1])\n",
    "        nb_sides = next_point(start, (0, 1), (1, 0), True)\n",
    "        print(f\"Found {nb_sides} sides in container {container} start {start}\")\n",
    "        visited.extend(temp)\n",
    "        temp = []\n",
    "        sides[i] += nb_sides"
   ]
  },
  {
   "cell_type": "code",
   "execution_count": 218,
   "metadata": {},
   "outputs": [
    {
     "name": "stdout",
     "output_type": "stream",
     "text": [
      "956173\n"
     ]
    }
   ],
   "source": [
    "price = 0\n",
    "for i in range(len(groups)):\n",
    "    price += sides[i] * len(groups[i])\n",
    "print(price)"
   ]
  },
  {
   "cell_type": "code",
   "execution_count": null,
   "metadata": {},
   "outputs": [],
   "source": []
  }
 ],
 "metadata": {
  "kernelspec": {
   "display_name": "Python 3",
   "language": "python",
   "name": "python3"
  },
  "language_info": {
   "codemirror_mode": {
    "name": "ipython",
    "version": 3
   },
   "file_extension": ".py",
   "mimetype": "text/x-python",
   "name": "python",
   "nbconvert_exporter": "python",
   "pygments_lexer": "ipython3",
   "version": "3.12.5"
  }
 },
 "nbformat": 4,
 "nbformat_minor": 2
}
